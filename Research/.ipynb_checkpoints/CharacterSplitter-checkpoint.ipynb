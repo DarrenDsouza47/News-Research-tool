{
 "cells": [
  {
   "cell_type": "code",
   "execution_count": 1,
   "metadata": {},
   "outputs": [],
   "source": [
    "text=\"\"\"Islam Ramazanovich Makhachev[1] (Russian: Ислам Рамазанович Махачев;[1] born 27 October 1991) is a Russian professional mixed martial artist and former sambo competitor. He currently competes in the Lightweight division in the Ultimate Fighting Championship (UFC), where he is the current UFC Lightweight Champion.[8] Makhachev has competed professionally since 2010, along with becoming a combat sambo world champion in 2016 and two-time Russian national champion at 74 kg (2014, 2016). As of 24 October 2023, he is #2 in the UFC men's pound-for-pound rankings.\n",
    "\n",
    "An ethnic Lak,[1] Makhachev was born in Makhachkala and grew up in the remote village of Burshi (then part of Dagestan ASSR, Soviet Union, now part of the Republic of Dagestan, Russia).[11][12] Makhachev's father grew tomatoes and worked as a driver, his mother was a house wife and ran a small cafe, and he also has an older brother named Kurbanismail. Starting at age 7, he began practicing taekwondo under decorated champion Seyfula Magomedov.[13] Makhachev switched to sanda while attending school with Abubakar Nurmagomedov, where he also met Khabib Nurmagomedov, Shamil Zavurov, and their family. However, he gave up combat sports and played soccer for two years after his family moved to a different town. Makhachev engaged in constant street fights as a child due to the culture of the region; it is common for adults (such as his coach Magomedov) to pick boys to face each other or for the boys to confront each other. He trained in freestyle wrestling for a year but switched to mixed martial arts under Abdulmanap Nurmagomedov after learning that Khabib was already a professional. Makhachev had been a UFC fan since childhood, his favorite fighters were Tank Abbott and Ken Shamrock. While training, he attended Dagestan State University to study physical education and sports. In order to support himself, Makhachev worked as a security guard. His boss would let him train during work hours and paid his salary while Makhachev was away for competitions and training camps.[13][14][15][16]\n",
    "\n",
    "In February 2014, Makhachev won the -74 kg division at Russian National Combat Sambo Championship, qualifying for the world championship in Japan.[17] He was unable to compete at the 2014 world championships due to the discovery of a heart condition that required treatment.[15][16] Makhachev won the -74 kg division again at the 2016 national championship, qualifying for the world championship.[18] He then won gold at the 2016 World Combat Sambo Championship. In the finals, Makhachev beat Valentin Benishev of Bulgaria (7-0).\n",
    "\n",
    "On 2 October 2014, Makhachev signed a four-fight contract with the UFC.[26] He submitted Leo Kuntz in the second round on 23 May 2015, at UFC 187.[27]\n",
    "\n",
    "Makhachev faced Adriano Martins on 3 October 2015 at UFC 192.[28] He lost via knockout in the first round, marking his first and only professional loss to date.[29]\n",
    "\n",
    "Makhachev was expected to face Drew Dober on 16 April 2016, at UFC on Fox 19.[30] After the weigh-ins, the UFC announced that the bout was cancelled after Makhachev failed an out-of-competition drug screening, testing positive for the banned anti-ischemic meldonium.[31] USADA lifted Makhachev's suspension after a hearing on 2 July 2016 determined that the drug was prescribed in November 2015 to recover from a medical procedure to his heart.[32][33]\n",
    "\n",
    "On 17 September 2016, he faced with Chris Wade at UFC Fight Night 94.[34] He won the fight via unanimous decision.[35]\n",
    "\n",
    "Makhachev faced Nik Lentz on 11 February 2017, at UFC 208.[36] He won the fight by unanimous decision (30–27, 30–25, 30–25).[37]\n",
    "\n",
    "Makhachev was expected to face Michel Prazeres on 2 September 2017 at UFC Fight Night 115.[38] However, Makhachev pulled out of the fight in the beginning of August citing a religious reason, and he was replaced by Mads Burnell.[39]\n",
    "\n",
    "Makhachev fought Gleison Tibau on 20 January 2018 at UFC 220.[40] He won the fight by knockout in 57 seconds in the first round.[41]\n",
    "\n",
    "Makhachev faced Kajan Johnson on 28 July 2018 at UFC on Fox 30.[42] Makhachev took Johnson down in the first round, where he worked to mount and secured the armbar, forcing Johnson to tap; giving Makhachev a submission victory.[43]\n",
    "\n",
    "Makhachev was expected to face Francisco Trinaldo on 26 January 2019 at UFC 233.[44] However, it was reported on 11 November 2018 Makhachev was pulled out from the event due to undisclosed reason and he was replaced by Alexander Hernandez.[45]\n",
    "\n",
    "Makhachev faced Arman Tsarukyan on 20 April 2019 at UFC on ESPN+ 7.[46][47] He won the fight via unanimous decision.[48] This win earned him the Fight of the Night award.[49]\n",
    "\n",
    "Makhachev faced Davi Ramos on 7 September 2019 at UFC 242.[50] He won the fight via unanimous decision.[51]\n",
    "\n",
    "Makhachev was scheduled to face Alexander Hernandez on 18 April 2020 at UFC 249.[52] However, Makhachev was removed from the card due to travel restrictions related to the COVID-19 pandemic and he was replaced by Omar Morales.[53]\n",
    "\n",
    "Makhachev was expected to face Rafael dos Anjos on 24 October 2020 at UFC 254.[54] However, on 8 October 2020 it was reported that dos Anjos tested positive for COVID-19 and he was removed from the bout.[55] The pairing was left intact and rescheduled for 14 November 2020 at UFC Fight Night: Felder vs. dos Anjos.[56] However, on 8 November, it was reported that Makhachev was forced to pull from the event due to staph infection.[57][58]\n",
    "\n",
    "Makhachev faced Drew Dober on 6 March 2021 at UFC 259.[59] He won the fight by an arm-triangle choke submission in the third round.[60]\n",
    "\n",
    "Makhachev faced Thiago Moisés on 17 July 2021 at UFC on ESPN 26.[61] He won the fight by a rear-naked choke submission in the fourth round.[62]\n",
    "\n",
    "A bout with former UFC Lightweight Champion Rafael dos Anjos was rescheduled and was expected to take place on 30 October 2021 at UFC 267.[63] However, dos Anjos was forced to pulled from the event due to injury,[64] and he was replaced by Dan Hooker.[65] He won the fight by a kimura submission in the first round.[66]\n",
    "\n",
    "Makhachev was scheduled to face Beneil Dariush on 26 February 2022 at UFC Fight Night 202.[67] However, on 12 February 2022 it was reported that Dariush withdrew from the event due to an ankle injury[68] and he was replaced by Bobby Green.[69] He won the bout via ground and pound TKO in the first round.\"\"\""
   ]
  },
  {
   "cell_type": "code",
   "execution_count": 5,
   "metadata": {},
   "outputs": [
    {
     "name": "stderr",
     "output_type": "stream",
     "text": [
      "Created a chunk of size 214, which is longer than the specified 200\n"
     ]
    },
    {
     "data": {
      "text/plain": [
       "43"
      ]
     },
     "execution_count": 5,
     "metadata": {},
     "output_type": "execute_result"
    }
   ],
   "source": [
    "from langchain.text_splitter import CharacterTextSplitter\n",
    "\n",
    "splitter=CharacterTextSplitter(\n",
    "    separator='.',\n",
    "    chunk_size=200,\n",
    "    chunk_overlap=0\n",
    ")\n",
    "\n",
    "chunks=splitter.split_text(text)\n",
    "len(chunks)"
   ]
  },
  {
   "cell_type": "code",
   "execution_count": 6,
   "metadata": {},
   "outputs": [
    {
     "name": "stdout",
     "output_type": "stream",
     "text": [
      "168\n",
      "143\n",
      "172\n",
      "73\n",
      "184\n",
      "167\n",
      "91\n",
      "155\n",
      "108\n",
      "213\n",
      "163\n",
      "195\n",
      "194\n",
      "163\n",
      "127\n",
      "187\n",
      "138\n",
      "141\n",
      "181\n",
      "188\n",
      "177\n",
      "187\n",
      "161\n",
      "137\n",
      "133\n",
      "68\n",
      "163\n",
      "85\n",
      "158\n",
      "175\n",
      "194\n",
      "145\n",
      "83\n",
      "124\n",
      "110\n",
      "180\n",
      "146\n",
      "74\n",
      "143\n",
      "176\n",
      "95\n",
      "148\n",
      "64\n"
     ]
    }
   ],
   "source": [
    "for chunk in chunks:\n",
    "    print(len(chunk))"
   ]
  },
  {
   "cell_type": "code",
   "execution_count": 7,
   "metadata": {},
   "outputs": [
    {
     "data": {
      "text/plain": [
       "['Islam Ramazanovich Makhachev[1] (Russian: Ислам Рамазанович Махачев;[1] born 27 October 1991) is a Russian professional mixed martial artist and former sambo competitor',\n",
       " 'He currently competes in the Lightweight division in the Ultimate Fighting Championship (UFC), where he is the current UFC Lightweight Champion',\n",
       " '[8] Makhachev has competed professionally since 2010, along with becoming a combat sambo world champion in 2016 and two-time Russian national champion at 74 kg (2014, 2016)',\n",
       " \"As of 24 October 2023, he is #2 in the UFC men's pound-for-pound rankings\",\n",
       " 'An ethnic Lak,[1] Makhachev was born in Makhachkala and grew up in the remote village of Burshi (then part of Dagestan ASSR, Soviet Union, now part of the Republic of Dagestan, Russia)',\n",
       " \"[11][12] Makhachev's father grew tomatoes and worked as a driver, his mother was a house wife and ran a small cafe, and he also has an older brother named Kurbanismail\",\n",
       " 'Starting at age 7, he began practicing taekwondo under decorated champion Seyfula Magomedov',\n",
       " '[13] Makhachev switched to sanda while attending school with Abubakar Nurmagomedov, where he also met Khabib Nurmagomedov, Shamil Zavurov, and their family',\n",
       " 'However, he gave up combat sports and played soccer for two years after his family moved to a different town',\n",
       " 'Makhachev engaged in constant street fights as a child due to the culture of the region; it is common for adults (such as his coach Magomedov) to pick boys to face each other or for the boys to confront each other',\n",
       " 'He trained in freestyle wrestling for a year but switched to mixed martial arts under Abdulmanap Nurmagomedov after learning that Khabib was already a professional',\n",
       " 'Makhachev had been a UFC fan since childhood, his favorite fighters were Tank Abbott and Ken Shamrock. While training, he attended Dagestan State University to study physical education and sports',\n",
       " 'In order to support himself, Makhachev worked as a security guard. His boss would let him train during work hours and paid his salary while Makhachev was away for competitions and training camps',\n",
       " '[13][14][15][16]\\n\\nIn February 2014, Makhachev won the -74 kg division at Russian National Combat Sambo Championship, qualifying for the world championship in Japan',\n",
       " '[17] He was unable to compete at the 2014 world championships due to the discovery of a heart condition that required treatment',\n",
       " '[15][16] Makhachev won the -74 kg division again at the 2016 national championship, qualifying for the world championship.[18] He then won gold at the 2016 World Combat Sambo Championship',\n",
       " 'In the finals, Makhachev beat Valentin Benishev of Bulgaria (7-0).\\n\\nOn 2 October 2014, Makhachev signed a four-fight contract with the UFC',\n",
       " '[26] He submitted Leo Kuntz in the second round on 23 May 2015, at UFC 187.[27]\\n\\nMakhachev faced Adriano Martins on 3 October 2015 at UFC 192',\n",
       " '[28] He lost via knockout in the first round, marking his first and only professional loss to date.[29]\\n\\nMakhachev was expected to face Drew Dober on 16 April 2016, at UFC on Fox 19',\n",
       " '[30] After the weigh-ins, the UFC announced that the bout was cancelled after Makhachev failed an out-of-competition drug screening, testing positive for the banned anti-ischemic meldonium',\n",
       " \"[31] USADA lifted Makhachev's suspension after a hearing on 2 July 2016 determined that the drug was prescribed in November 2015 to recover from a medical procedure to his heart\",\n",
       " '[32][33]\\n\\nOn 17 September 2016, he faced with Chris Wade at UFC Fight Night 94.[34] He won the fight via unanimous decision.[35]\\n\\nMakhachev faced Nik Lentz on 11 February 2017, at UFC 208',\n",
       " '[36] He won the fight by unanimous decision (30–27, 30–25, 30–25).[37]\\n\\nMakhachev was expected to face Michel Prazeres on 2 September 2017 at UFC Fight Night 115',\n",
       " '[38] However, Makhachev pulled out of the fight in the beginning of August citing a religious reason, and he was replaced by Mads Burnell',\n",
       " '[39]\\n\\nMakhachev fought Gleison Tibau on 20 January 2018 at UFC 220.[40] He won the fight by knockout in 57 seconds in the first round',\n",
       " '[41]\\n\\nMakhachev faced Kajan Johnson on 28 July 2018 at UFC on Fox 30',\n",
       " '[42] Makhachev took Johnson down in the first round, where he worked to mount and secured the armbar, forcing Johnson to tap; giving Makhachev a submission victory',\n",
       " '[43]\\n\\nMakhachev was expected to face Francisco Trinaldo on 26 January 2019 at UFC 233',\n",
       " '[44] However, it was reported on 11 November 2018 Makhachev was pulled out from the event due to undisclosed reason and he was replaced by Alexander Hernandez',\n",
       " '[45]\\n\\nMakhachev faced Arman Tsarukyan on 20 April 2019 at UFC on ESPN+ 7.[46][47] He won the fight via unanimous decision.[48] This win earned him the Fight of the Night award',\n",
       " '[49]\\n\\nMakhachev faced Davi Ramos on 7 September 2019 at UFC 242.[50] He won the fight via unanimous decision.[51]\\n\\nMakhachev was scheduled to face Alexander Hernandez on 18 April 2020 at UFC 249',\n",
       " '[52] However, Makhachev was removed from the card due to travel restrictions related to the COVID-19 pandemic and he was replaced by Omar Morales',\n",
       " '[53]\\n\\nMakhachev was expected to face Rafael dos Anjos on 24 October 2020 at UFC 254',\n",
       " '[54] However, on 8 October 2020 it was reported that dos Anjos tested positive for COVID-19 and he was removed from the bout',\n",
       " '[55] The pairing was left intact and rescheduled for 14 November 2020 at UFC Fight Night: Felder vs. dos Anjos',\n",
       " '[56] However, on 8 November, it was reported that Makhachev was forced to pull from the event due to staph infection.[57][58]\\n\\nMakhachev faced Drew Dober on 6 March 2021 at UFC 259',\n",
       " '[59] He won the fight by an arm-triangle choke submission in the third round.[60]\\n\\nMakhachev faced Thiago Moisés on 17 July 2021 at UFC on ESPN 26',\n",
       " '[61] He won the fight by a rear-naked choke submission in the fourth round',\n",
       " '[62]\\n\\nA bout with former UFC Lightweight Champion Rafael dos Anjos was rescheduled and was expected to take place on 30 October 2021 at UFC 267',\n",
       " '[63] However, dos Anjos was forced to pulled from the event due to injury,[64] and he was replaced by Dan Hooker.[65] He won the fight by a kimura submission in the first round',\n",
       " '[66]\\n\\nMakhachev was scheduled to face Beneil Dariush on 26 February 2022 at UFC Fight Night 202',\n",
       " '[67] However, on 12 February 2022 it was reported that Dariush withdrew from the event due to an ankle injury[68] and he was replaced by Bobby Green',\n",
       " '[69] He won the bout via ground and pound TKO in the first round']"
      ]
     },
     "execution_count": 7,
     "metadata": {},
     "output_type": "execute_result"
    }
   ],
   "source": [
    "chunks"
   ]
  },
  {
   "cell_type": "code",
   "execution_count": 9,
   "metadata": {},
   "outputs": [
    {
     "data": {
      "text/plain": [
       "48"
      ]
     },
     "execution_count": 9,
     "metadata": {},
     "output_type": "execute_result"
    }
   ],
   "source": [
    "from langchain.text_splitter import RecursiveCharacterTextSplitter\n",
    "\n",
    "r_splitter=RecursiveCharacterTextSplitter(\n",
    "    separators=[\"\\n\\n\",\"\\n\",\".\",\" \"],\n",
    "    chunk_size=200,\n",
    "    chunk_overlap=0\n",
    "\n",
    ")\n",
    "\n",
    "chunks=r_splitter.split_text(text)\n",
    "len(chunks)"
   ]
  },
  {
   "cell_type": "code",
   "execution_count": 10,
   "metadata": {},
   "outputs": [
    {
     "name": "stdout",
     "output_type": "stream",
     "text": [
      "168\n",
      "145\n",
      "173\n",
      "76\n",
      "184\n",
      "168\n",
      "93\n",
      "156\n",
      "110\n",
      "195\n",
      "19\n",
      "165\n",
      "197\n",
      "196\n",
      "17\n",
      "145\n",
      "128\n",
      "188\n",
      "68\n",
      "150\n",
      "164\n",
      "76\n",
      "189\n",
      "187\n",
      "118\n",
      "128\n",
      "89\n",
      "143\n",
      "132\n",
      "62\n",
      "169\n",
      "79\n",
      "164\n",
      "174\n",
      "107\n",
      "79\n",
      "151\n",
      "77\n",
      "125\n",
      "111\n",
      "126\n",
      "135\n",
      "143\n",
      "137\n",
      "182\n",
      "89\n",
      "149\n",
      "66\n"
     ]
    }
   ],
   "source": [
    "for chunk in chunks:\n",
    "    print(len(chunk))"
   ]
  }
 ],
 "metadata": {
  "kernelspec": {
   "display_name": "Python 3",
   "language": "python",
   "name": "python3"
  },
  "language_info": {
   "codemirror_mode": {
    "name": "ipython",
    "version": 3
   },
   "file_extension": ".py",
   "mimetype": "text/x-python",
   "name": "python",
   "nbconvert_exporter": "python",
   "pygments_lexer": "ipython3",
   "version": "3.8.3"
  }
 },
 "nbformat": 4,
 "nbformat_minor": 4
}
