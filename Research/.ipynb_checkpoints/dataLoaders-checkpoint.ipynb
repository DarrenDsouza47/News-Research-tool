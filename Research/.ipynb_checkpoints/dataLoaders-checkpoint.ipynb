{
 "cells": [
  {
   "cell_type": "code",
   "execution_count": 1,
   "metadata": {},
   "outputs": [],
   "source": [
    "from langchain.document_loaders import TextLoader"
   ]
  },
  {
   "cell_type": "code",
   "execution_count": 3,
   "metadata": {},
   "outputs": [],
   "source": [
    "loader=TextLoader(\"vedanta_news.txt\",encoding='utf-8')\n",
    "data=loader.load()"
   ]
  },
  {
   "cell_type": "code",
   "execution_count": 7,
   "metadata": {
    "scrolled": true
   },
   "outputs": [
    {
     "data": {
      "text/plain": [
       "'Vedanta Group is in advanced talks to raise a $1.25 billion private loan with an interest rate between 18 percent and 20 percent as it seeks to overhaul its debt.\\n\\nThe Indian conglomerate is nearing a deal after weeks of negotiations with lenders, including Cerberus Capital Management LP, Davidson Kempner Capital Management LP, Varde Partners Inc., and Ares SSG Capital Management Ltd., according to people familiar with the matter, who asked not to be named because the matter is private.\\n\\nIndian billionaire Anil Agarwal’s miner has been looking for fresh sources of cash to refinance around $3 billion of US-currency bonds coming due over the next two years.\\n\\nBloomberg first reported on the company’s talks for a private loan of $1 billion on September 21. Representatives for Vedanta also proposed delaying payments on the dollar bonds, a plan that met with investor opposition, Bloomberg reported on September 28.\\n\\nVedanta continues to work on the refinancing of maturing debt, a spokesperson told Bloomberg on November 4.\\n\\n“No comment can be made at this time about the outcome of the exercise but the company remains confident in its ability to effect a successful process,” the spokesperson said.\\n\\nIndia is a hot market for private credit, in part because of rules that limit bank lending for transactions such as mergers and acquisitions. Deals often have floating rates of interest and pricing gets set up front.'"
      ]
     },
     "execution_count": 7,
     "metadata": {},
     "output_type": "execute_result"
    }
   ],
   "source": [
    "data[0].page_content"
   ]
  },
  {
   "cell_type": "code",
   "execution_count": 15,
   "metadata": {},
   "outputs": [
    {
     "name": "stdout",
     "output_type": "stream",
     "text": [
      "Requirement already satisfied: unstructured in c:\\users\\darre\\anaconda3\\lib\\site-packages (0.10.28)\n",
      "Requirement already satisfied: libmagic in c:\\users\\darre\\anaconda3\\lib\\site-packages (1.0)\n",
      "Requirement already satisfied: python-magic in c:\\users\\darre\\anaconda3\\lib\\site-packages (0.4.27)\n",
      "Requirement already satisfied: python-magic-bin in c:\\users\\darre\\anaconda3\\lib\\site-packages (0.4.14)\n",
      "Requirement already satisfied: beautifulsoup4 in c:\\users\\darre\\anaconda3\\lib\\site-packages (from unstructured) (4.9.1)\n",
      "Requirement already satisfied: python-iso639 in c:\\users\\darre\\anaconda3\\lib\\site-packages (from unstructured) (2023.6.15)\n",
      "Requirement already satisfied: lxml in c:\\users\\darre\\anaconda3\\lib\\site-packages (from unstructured) (4.5.2)\n",
      "Requirement already satisfied: nltk in c:\\users\\darre\\anaconda3\\lib\\site-packages (from unstructured) (3.5)\n",
      "Requirement already satisfied: numpy in c:\\users\\darre\\anaconda3\\lib\\site-packages (from unstructured) (1.24.4)\n",
      "Requirement already satisfied: emoji in c:\\users\\darre\\anaconda3\\lib\\site-packages (from unstructured) (2.8.0)\n",
      "Requirement already satisfied: typing-extensions in c:\\users\\darre\\anaconda3\\lib\\site-packages (from unstructured) (4.7.1)\n",
      "Requirement already satisfied: chardet in c:\\users\\darre\\anaconda3\\lib\\site-packages (from unstructured) (3.0.4)\n",
      "Requirement already satisfied: rapidfuzz in c:\\users\\darre\\anaconda3\\lib\\site-packages (from unstructured) (3.5.2)\n",
      "Requirement already satisfied: backoff in c:\\users\\darre\\anaconda3\\lib\\site-packages (from unstructured) (2.2.1)\n",
      "Requirement already satisfied: dataclasses-json in c:\\users\\darre\\anaconda3\\lib\\site-packages (from unstructured) (0.6.1)\n",
      "Requirement already satisfied: langdetect in c:\\users\\darre\\anaconda3\\lib\\site-packages (from unstructured) (1.0.9)\n",
      "Requirement already satisfied: requests in c:\\users\\darre\\anaconda3\\lib\\site-packages (from unstructured) (2.31.0)\n",
      "Requirement already satisfied: filetype in c:\\users\\darre\\anaconda3\\lib\\site-packages (from unstructured) (1.2.0)\n",
      "Requirement already satisfied: tabulate in c:\\users\\darre\\anaconda3\\lib\\site-packages (from unstructured) (0.9.0)\n",
      "Requirement already satisfied: soupsieve>1.2 in c:\\users\\darre\\anaconda3\\lib\\site-packages (from beautifulsoup4->unstructured) (2.0.1)\n",
      "Requirement already satisfied: click in c:\\users\\darre\\anaconda3\\lib\\site-packages (from nltk->unstructured) (7.1.2)\n",
      "Requirement already satisfied: joblib in c:\\users\\darre\\anaconda3\\lib\\site-packages (from nltk->unstructured) (1.2.0)\n",
      "Requirement already satisfied: regex in c:\\users\\darre\\anaconda3\\lib\\site-packages (from nltk->unstructured) (2020.6.8)\n",
      "Requirement already satisfied: tqdm in c:\\users\\darre\\anaconda3\\lib\\site-packages (from nltk->unstructured) (4.47.0)\n",
      "Requirement already satisfied: marshmallow<4.0.0,>=3.18.0 in c:\\users\\darre\\anaconda3\\lib\\site-packages (from dataclasses-json->unstructured) (3.20.1)\n",
      "Requirement already satisfied: typing-inspect<1,>=0.4.0 in c:\\users\\darre\\anaconda3\\lib\\site-packages (from dataclasses-json->unstructured) (0.9.0)\n",
      "Requirement already satisfied: six in c:\\users\\darre\\anaconda3\\lib\\site-packages (from langdetect->unstructured) (1.15.0)\n",
      "Requirement already satisfied: idna<4,>=2.5 in c:\\users\\darre\\anaconda3\\lib\\site-packages (from requests->unstructured) (2.10)\n",
      "Requirement already satisfied: certifi>=2017.4.17 in c:\\users\\darre\\anaconda3\\lib\\site-packages (from requests->unstructured) (2023.7.22)\n",
      "Requirement already satisfied: charset-normalizer<4,>=2 in c:\\users\\darre\\anaconda3\\lib\\site-packages (from requests->unstructured) (3.3.1)\n",
      "Requirement already satisfied: urllib3<3,>=1.21.1 in c:\\users\\darre\\anaconda3\\lib\\site-packages (from requests->unstructured) (1.25.11)\n",
      "Requirement already satisfied: packaging>=17.0 in c:\\users\\darre\\anaconda3\\lib\\site-packages (from marshmallow<4.0.0,>=3.18.0->dataclasses-json->unstructured) (20.4)\n",
      "Requirement already satisfied: mypy-extensions>=0.3.0 in c:\\users\\darre\\anaconda3\\lib\\site-packages (from typing-inspect<1,>=0.4.0->dataclasses-json->unstructured) (1.0.0)\n",
      "Requirement already satisfied: pyparsing>=2.0.2 in c:\\users\\darre\\anaconda3\\lib\\site-packages (from packaging>=17.0->marshmallow<4.0.0,>=3.18.0->dataclasses-json->unstructured) (2.4.7)\n"
     ]
    }
   ],
   "source": [
    "!pip install unstructured libmagic python-magic python-magic-bin"
   ]
  },
  {
   "cell_type": "code",
   "execution_count": 19,
   "metadata": {},
   "outputs": [
    {
     "name": "stdout",
     "output_type": "stream",
     "text": [
      "Requirement already up-to-date: numpy in c:\\users\\darre\\anaconda3\\lib\\site-packages (1.24.4)\n",
      "Requirement already up-to-date: openpyxl in c:\\users\\darre\\anaconda3\\lib\\site-packages (3.1.2)\n",
      "Requirement already satisfied, skipping upgrade: et-xmlfile in c:\\users\\darre\\anaconda3\\lib\\site-packages (from openpyxl) (1.0.1)\n",
      "Collecting networkx\n",
      "  Using cached networkx-3.1-py3-none-any.whl (2.1 MB)\n",
      "Installing collected packages: networkx\n",
      "  Attempting uninstall: networkx\n",
      "    Found existing installation: networkx 2.4\n",
      "    Uninstalling networkx-2.4:\n",
      "      Successfully uninstalled networkx-2.4\n",
      "Successfully installed networkx-3.1\n"
     ]
    }
   ],
   "source": [
    "!pip install --upgrade numpy\n",
    "!pip install --upgrade openpyxl\n",
    "!pip install --upgrade networkx\n"
   ]
  },
  {
   "cell_type": "code",
   "execution_count": 1,
   "metadata": {},
   "outputs": [],
   "source": [
    "from langchain.document_loaders import UnstructuredURLLoader"
   ]
  },
  {
   "cell_type": "code",
   "execution_count": 2,
   "metadata": {
    "scrolled": true
   },
   "outputs": [
    {
     "name": "stderr",
     "output_type": "stream",
     "text": [
      "C:\\Users\\darre\\anaconda3\\lib\\site-packages\\pandas\\core\\computation\\expressions.py:20: UserWarning: Pandas requires version '2.7.3' or newer of 'numexpr' (version '2.7.1' currently installed).\n",
      "  from pandas.core.computation.check import NUMEXPR_INSTALLED\n",
      "[nltk_data] Downloading package punkt to\n",
      "[nltk_data]     C:\\Users\\darre\\AppData\\Roaming\\nltk_data...\n",
      "[nltk_data]   Unzipping tokenizers\\punkt.zip.\n",
      "[nltk_data] Downloading package averaged_perceptron_tagger to\n",
      "[nltk_data]     C:\\Users\\darre\\AppData\\Roaming\\nltk_data...\n",
      "[nltk_data]   Unzipping taggers\\averaged_perceptron_tagger.zip.\n"
     ]
    }
   ],
   "source": [
    "loader=UnstructuredURLLoader(urls=[\n",
    "    \"https://www.moneycontrol.com/news/business/vedanta-nears-deal-to-raise-1-25-billion-via-private-loan-11664841.html\",\n",
    "    \"https://www.moneycontrol.com/news/business/ipo/ipo-weekly-wrap-mamaearth-esaf-cello-blue-jet-and-12-smes-steer-the-market-ship-11663631.html\"\n",
    "])\n",
    "data=loader.load()"
   ]
  },
  {
   "cell_type": "code",
   "execution_count": null,
   "metadata": {},
   "outputs": [],
   "source": []
  },
  {
   "cell_type": "code",
   "execution_count": 6,
   "metadata": {},
   "outputs": [
    {
     "data": {
      "text/plain": [
       "{'source': 'https://www.moneycontrol.com/news/business/ipo/ipo-weekly-wrap-mamaearth-esaf-cello-blue-jet-and-12-smes-steer-the-market-ship-11663631.html'}"
      ]
     },
     "execution_count": 6,
     "metadata": {},
     "output_type": "execute_result"
    }
   ],
   "source": [
    "data[1].metadata"
   ]
  }
 ],
 "metadata": {
  "kernelspec": {
   "display_name": "Python 3",
   "language": "python",
   "name": "python3"
  },
  "language_info": {
   "codemirror_mode": {
    "name": "ipython",
    "version": 3
   },
   "file_extension": ".py",
   "mimetype": "text/x-python",
   "name": "python",
   "nbconvert_exporter": "python",
   "pygments_lexer": "ipython3",
   "version": "3.8.3"
  }
 },
 "nbformat": 4,
 "nbformat_minor": 4
}
